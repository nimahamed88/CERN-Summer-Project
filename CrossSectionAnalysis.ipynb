{
 "cells": [
  {
   "cell_type": "code",
   "execution_count": 1,
   "id": "48cb55e6",
   "metadata": {},
   "outputs": [],
   "source": [
    "import awkward as ak\n",
    "import hist\n",
    "import numpy as np\n",
    "import math\n",
    "import pylhe\n",
    "import matplotlib.pyplot as plt\n",
    "import pyhepmc as hep"
   ]
  },
  {
   "cell_type": "code",
   "execution_count": 70,
   "id": "92aebbc0",
   "metadata": {},
   "outputs": [],
   "source": [
    "def calculate_pseudorapidity(px, py, pz):\n",
    "    p = math.sqrt(px**2 + py**2 + pz**2)\n",
    "    eta = 0.5 * math.log((p + pz) / (p - pz))\n",
    "    return eta\n",
    "\n",
    "\n",
    "def calculate_pt(px, py):\n",
    "    p = np.array([px, py])\n",
    "    pt = np.linalg.norm(p)\n",
    "    return pt\n",
    "\n",
    "def calculate_phi(px, py):\n",
    "    phi = math.atan2(py, px)\n",
    "    return phi"
   ]
  },
  {
   "cell_type": "markdown",
   "id": "af86cf68",
   "metadata": {},
   "source": [
    "# SPS Cross Section for pp > tt > fully jet hadronic channel (CMS)"
   ]
  },
  {
   "cell_type": "markdown",
   "id": "9c0321aa",
   "metadata": {},
   "source": [
    "### only Pt cuts and Eta cuts"
   ]
  },
  {
   "cell_type": "code",
   "execution_count": 53,
   "id": "0a3e2e5f",
   "metadata": {},
   "outputs": [
    {
     "name": "stdout",
     "output_type": "stream",
     "text": [
      "Total events: 10000\n",
      "Events passed the cuts: 3339\n",
      "Total cross section before cuts: 228.19 pb\n",
      "Total cross section after cuts: 76.19 pb\n"
     ]
    }
   ],
   "source": [
    "\n",
    "\n",
    "lhe_file_path = \"/home/nima/Documents/MG5_aMC_v3_5_0/main_ppxtt_bb4j_madspin/Events/run_01_decayed_1/unweighted_events_decayed.lhe\"\n",
    "\n",
    "# Load the LHE file\n",
    "events = pylhe.read_lhe(lhe_file_path)\n",
    "\n",
    "# Define the cut conditions\n",
    "jet_cut_1 = lambda jet: abs(jet.id) <= 5 and jet.status == 1\n",
    "jet_cut_2 = lambda jet: calculate_pt(jet.px, jet.py) > 20 and abs(calculate_pseudorapidity(jet.px, jet.py, jet.pz)) < 2.4\n",
    "jet_cut_3 = lambda jet: calculate_pt(jet.px, jet.py) > 30\n",
    "\n",
    "# Define variables for cross-section calculation\n",
    "total_cross_section = 0.0\n",
    "cross_section_after_cuts = 0.0\n",
    "total_events = 0\n",
    "passed_cut_events = 0\n",
    "\n",
    "\n",
    "# Iterate over the events\n",
    "for event in events:\n",
    "    total_events += 1\n",
    "    \n",
    "    # Count the number of jets that satisfy the first cut\n",
    "    num_jets_cut_1 = sum(1 for jet in event.particles if jet_cut_1(jet))\n",
    "    \n",
    "    # Check if there are at least 6 jets in the final state\n",
    "    if num_jets_cut_1 >= 6:\n",
    "        # Count the number of jets that satisfy all cuts\n",
    "        num_jets_cut_2 = sum(1 for jet in event.particles if jet_cut_1(jet) and jet_cut_2(jet))\n",
    "        \n",
    "        # Check if all six jets satisfy the cuts\n",
    "        if num_jets_cut_2 == 6:\n",
    "            cross_section_after_cuts += event.eventinfo.weight\n",
    "            passed_cut_events += 1\n",
    "    \n",
    "    # Compute the total cross section\n",
    "    total_cross_section += event.eventinfo.weight\n",
    "\n",
    "    \n",
    "# Calculate the average cross-section before the cut\n",
    "average_cross_section_before_cut = total_cross_section / total_events\n",
    "\n",
    "# Calculate the average cross-section after the cut\n",
    "average_cross_section_after_cut = cross_section_after_cuts / total_events\n",
    "\n",
    "    \n",
    "# Print the results\n",
    "print(\"Total events:\", total_events)\n",
    "print(\"Events passed the cuts:\", passed_cut_events)\n",
    "print(\"Total cross section before cuts: {0:.2f} pb\".format(average_cross_section_before_cut))\n",
    "print(\"Total cross section after cuts: {0:.2f} pb\".format(average_cross_section_after_cut))\n",
    "\n",
    "\n",
    "\n"
   ]
  },
  {
   "cell_type": "markdown",
   "id": "26c1bee3",
   "metadata": {},
   "source": [
    "### 4 jets Pt > 30 applied as well"
   ]
  },
  {
   "cell_type": "code",
   "execution_count": 54,
   "id": "3e83ab53",
   "metadata": {},
   "outputs": [
    {
     "name": "stdout",
     "output_type": "stream",
     "text": [
      "Total events: 10000\n",
      "Events passed the cuts: 1349\n",
      "Total cross section before cuts: 228.19 pb\n",
      "Total cross section after cuts: 30.78 pb\n"
     ]
    }
   ],
   "source": [
    "\n",
    "lhe_file_path = \"/home/nima/Documents/MG5_aMC_v3_5_0/main_ppxtt_bb4j_madspin/Events/run_01_decayed_1/unweighted_events_decayed.lhe\"\n",
    "\n",
    "# Load the LHE file\n",
    "events = pylhe.read_lhe(lhe_file_path)\n",
    "\n",
    "# Define the cut conditions\n",
    "jet_cut_1 = lambda jet: abs(jet.id) <= 5 and jet.status == 1\n",
    "jet_cut_2 = lambda jet: calculate_pt(jet.px, jet.py) > 20 and abs(calculate_pseudorapidity(jet.px, jet.py, jet.pz)) < 2.4\n",
    "jet_cut_3 = lambda jet: calculate_pt(jet.px, jet.py) > 30\n",
    "\n",
    "# Define variables for cross-section calculation\n",
    "total_cross_section = 0.0\n",
    "cross_section_after_cuts = 0.0\n",
    "total_events = 0\n",
    "passed_cut_events = 0\n",
    "\n",
    "\n",
    "# Iterate over the events\n",
    "for event in events:\n",
    "    total_events += 1\n",
    "    \n",
    "    # Count the number of jets that satisfy the first cut\n",
    "    num_jets_cut_1 = sum(1 for jet in event.particles if jet_cut_1(jet))\n",
    "    \n",
    "    # Check if there are at least 6 jets in the final state\n",
    "    if num_jets_cut_1 >= 6:\n",
    "        # Count the number of jets that satisfy all cuts\n",
    "        num_jets_cut_2 = sum(1 for jet in event.particles if jet_cut_1(jet) and jet_cut_2(jet) and jet_cut_3(jet))\n",
    "        \n",
    "        # Check if all six jets satisfy the cuts\n",
    "        if num_jets_cut_2 == 6:\n",
    "            cross_section_after_cuts += event.eventinfo.weight\n",
    "            passed_cut_events += 1\n",
    "    \n",
    "    # Compute the total cross section\n",
    "    total_cross_section += event.eventinfo.weight\n",
    "\n",
    "    \n",
    "# Calculate the average cross-section before the cut\n",
    "average_cross_section_before_cut = total_cross_section / total_events\n",
    "\n",
    "# Calculate the average cross-section after the cut\n",
    "average_cross_section_after_cut = cross_section_after_cuts / total_events\n",
    "\n",
    "    \n",
    "# Print the results\n",
    "print(\"Total events:\", total_events)\n",
    "print(\"Events passed the cuts:\", passed_cut_events)\n",
    "print(\"Total cross section before cuts: {0:.2f} pb\".format(average_cross_section_before_cut))\n",
    "print(\"Total cross section after cuts: {0:.2f} pb\".format(average_cross_section_after_cut))\n",
    "\n",
    "\n",
    "\n"
   ]
  },
  {
   "cell_type": "markdown",
   "id": "d0def108",
   "metadata": {},
   "source": [
    "# SPS Cross Section for pp > bb (CMS)"
   ]
  },
  {
   "cell_type": "code",
   "execution_count": 59,
   "id": "872dc6cd",
   "metadata": {},
   "outputs": [
    {
     "name": "stdout",
     "output_type": "stream",
     "text": [
      "Total number of events: 10000\n",
      "Number of passing events: 5882\n",
      "cross-section before the cut: 2838063.60 pb \n",
      "cross-section after the cut: 1669349.01 pb\n"
     ]
    }
   ],
   "source": [
    "\n",
    "lhe_file_path = \"/home/nima/Documents/MG5_aMC_v3_5_0/main_ppxbb_0/Events/run_01/unweighted_events.lhe\"\n",
    "\n",
    "# Load the LHE file\n",
    "events = pylhe.read_lhe(lhe_file_path)\n",
    "\n",
    "# Define the cut condition\n",
    "eta_cut = 2.4\n",
    "pt_cut = 20\n",
    "# Define the cross-section calculation variables\n",
    "cross_section_sum_before_cut = 0.0\n",
    "cross_section_sum_after_cut = 0.0\n",
    "passing_events = 0\n",
    "total_events = 0\n",
    "\n",
    "# Iterate over the events\n",
    "for event in events:\n",
    "    total_events += 1\n",
    "    # Check if all particles with abs(particle.id) <= 5 and particle.status == 1 pass the cut\n",
    "    all_particles_pass_cut = True\n",
    "    \n",
    "    # Iterate over the particles in the event\n",
    "    for particle in event.particles:\n",
    "        # Check if the particle is a quark with abs(particle.id) <= 5 and particle.status == 1\n",
    "        if abs(particle.id) == 5 and particle.status == 1:\n",
    "            # Extract the relevant particle properties\n",
    "            px = particle.px\n",
    "            py = particle.py\n",
    "            pz = particle.pz\n",
    "            \n",
    "            \n",
    "            # Calculate pseudorapidity\n",
    "            eta = calculate_pseudorapidity(px, py, pz)\n",
    "            # Calculate pt\n",
    "            pt = calculate_pt(px, py)\n",
    "            \n",
    "            # Check if the particle passes the pseudorapidity cut\n",
    "            if pt < pt_cut or abs(eta) > eta_cut:\n",
    "                all_particles_pass_cut = False\n",
    "                break\n",
    "    \n",
    "    # If all particles pass the cut, increment the cross-section sum after the cut\n",
    "    if all_particles_pass_cut:\n",
    "        cross_section_sum_before_cut += event.eventinfo.weight\n",
    "        cross_section_sum_after_cut += event.eventinfo.weight\n",
    "        passing_events += 1\n",
    "    else:\n",
    "        # If any particle fails the cut, increment the cross-section sum before the cut\n",
    "        cross_section_sum_before_cut += event.eventinfo.weight\n",
    "\n",
    "# Calculate the average cross-section before the cut\n",
    "average_cross_section_before_cut = cross_section_sum_before_cut / total_events\n",
    "\n",
    "# Calculate the average cross-section after the cut\n",
    "average_cross_section_after_cut = cross_section_sum_after_cut / total_events\n",
    "\n",
    "# Print the results\n",
    "print(\"Total number of events:\", total_events)\n",
    "print(\"Number of passing events:\", passing_events)\n",
    "print(\"cross-section before the cut: {0:.2f} pb \".format(average_cross_section_before_cut))\n",
    "print(\"cross-section after the cut: {0:.2f} pb\".format(average_cross_section_after_cut))\n"
   ]
  },
  {
   "cell_type": "markdown",
   "id": "db503cbc",
   "metadata": {},
   "source": [
    "## anti-kT algorithm"
   ]
  },
  {
   "cell_type": "code",
   "execution_count": 63,
   "id": "5e4fe33d",
   "metadata": {},
   "outputs": [
    {
     "name": "stdout",
     "output_type": "stream",
     "text": [
      "Total number of events: 10000\n",
      "Number of passing events: 5882\n",
      "cross-section before the cut: 2838063.60 pb\n",
      "cross-section after the cut: 1669349.01 pb\n"
     ]
    }
   ],
   "source": [
    "import pylhe\n",
    "import fastjet as fj\n",
    "\n",
    "lhe_file_path = \"/home/nima/Documents/MG5_aMC_v3_5_0/main_ppxbb_0/Events/run_01/unweighted_events.lhe\"\n",
    "\n",
    "# Load the LHE file\n",
    "events = pylhe.read_lhe(lhe_file_path)\n",
    "\n",
    "# Define the cut conditions\n",
    "eta_cut = 2.4\n",
    "pt_cut = 20\n",
    "\n",
    "# Define the cross-section calculation variables\n",
    "cross_section_sum_before_cut = 0.0\n",
    "cross_section_sum_after_cut = 0.0\n",
    "passing_events = 0\n",
    "total_events = 0\n",
    "\n",
    "\n",
    "# Iterate over the events\n",
    "for event in events:\n",
    "    total_events += 1\n",
    "    all_particles_pass_cut = True\n",
    "    particles = []\n",
    "    \n",
    "    # Iterate over the particles in the event\n",
    "    for particle in event.particles:\n",
    "        # Check if the particle is a quark with abs(particle.id) <= 5 and particle.status == 1\n",
    "        if abs(particle.id) <= 5 and particle.status == 1:\n",
    "            # Extract the relevant particle properties\n",
    "            px = particle.px\n",
    "            py = particle.py\n",
    "            pz = particle.pz\n",
    "            \n",
    "            # Calculate pseudorapidity\n",
    "            eta = calculate_pseudorapidity(px, py, pz)\n",
    "            # Calculate pt\n",
    "            pt = calculate_pt(px, py)\n",
    "            \n",
    "            # Check if the particle fails the pseudorapidity cut\n",
    "            if pt < pt_cut or abs(eta) > eta_cut:\n",
    "                all_particles_pass_cut = False\n",
    "                break\n",
    "            \n",
    "            # Create a PseudoJet object for jet clustering\n",
    "            p = fj.PseudoJet(px, py, pz, particle.e)\n",
    "            particles.append(p)\n",
    "    \n",
    "    # Perform jet clustering using the anti-kT algorithm\n",
    "    jet_def = fj.JetDefinition(fj.antikt_algorithm, 0.4)\n",
    "    jet_selector = fj.SelectorPtMin(pt_cut) & fj.SelectorAbsEtaMax(eta_cut)\n",
    "    jets = fj.sorted_by_pt(jet_selector(jet_def(particles)))\n",
    "    \n",
    "    # If all particles pass the cut and at least one jet is found, increment the cross-section sum after the cut\n",
    "    if all_particles_pass_cut and len(jets) > 0:\n",
    "        cross_section_sum_before_cut += event.eventinfo.weight\n",
    "        cross_section_sum_after_cut += event.eventinfo.weight\n",
    "        passing_events += 1\n",
    "    else:\n",
    "        # If any particle fails the cut or no jets are found, increment the cross-section sum before the cut\n",
    "        cross_section_sum_before_cut += event.eventinfo.weight\n",
    "\n",
    "# Calculate the average cross-section before the cut\n",
    "average_cross_section_before_cut = cross_section_sum_before_cut / total_events\n",
    "\n",
    "# Calculate the average cross-section after the cut\n",
    "average_cross_section_after_cut = cross_section_sum_after_cut / total_events\n",
    "\n",
    "# Print the results\n",
    "print(\"Total number of events:\", total_events)\n",
    "print(\"Number of passing events:\", passing_events)\n",
    "print(\"cross-section before the cut: {0:.2f} pb\".format(average_cross_section_before_cut))\n",
    "print(\"cross-section after the cut: {0:.2f} pb\".format(average_cross_section_after_cut))\n"
   ]
  },
  {
   "cell_type": "markdown",
   "id": "984ef16a",
   "metadata": {},
   "source": [
    "# SPS Cross Section for pp > tt >di-leptonic channel (CMS)"
   ]
  },
  {
   "cell_type": "code",
   "execution_count": 169,
   "id": "8e5b8bb0",
   "metadata": {},
   "outputs": [
    {
     "name": "stdout",
     "output_type": "stream",
     "text": [
      "Total events:  10000\n",
      "Selected events:  3739\n",
      "Cross section before cuts: 56.97 pb\n",
      "Cross section after cuts: 21.30 pb \n"
     ]
    }
   ],
   "source": [
    "\n",
    "\n",
    "lhe_file_path = \"/home/nima/Documents/MG5_aMC_v3_5_0/main_ppxtt_bb2l_madspin/Events/run_01_decayed_1/unweighted_events_decayed.lhe\"\n",
    "\n",
    "# Load the LHE file\n",
    "events = pylhe.read_lhe(lhe_file_path)\n",
    "\n",
    "# Initialize variables\n",
    "total_events = 0\n",
    "selected_events = 0\n",
    "cross_section_before = 0\n",
    "cross_section_after = 0\n",
    "\n",
    "# Define jet clustering parameters\n",
    "pt_cut = 20.0  # Minimum transverse momentum for jets\n",
    "eta_cut = 2.4  # Maximum pseudorapidity for jets\n",
    "\n",
    "pt_lcut = 25.0\n",
    "eta_lcut = 2.4\n",
    "\n",
    "DR = []\n",
    "nb = 0\n",
    "nl = 0\n",
    "# Iterate over the events\n",
    "for event in events:\n",
    "    total_events += 1\n",
    "    weight = event.eventinfo.weight\n",
    "    cross_section_before += weight\n",
    "\n",
    "    # Count the number of b quarks and opposite sign leptons\n",
    "    B = []\n",
    "    \n",
    "    leptons = []\n",
    "\n",
    "    for particle in event.particles:\n",
    "        if abs(particle.id) == 5 and particle.status == 1 :  # Check if the particle is a b quark\n",
    "            nb += 1\n",
    "            B.append(particle)\n",
    "        elif abs(particle.id) in (11, 13, 15) and particle.status == 1:  # Check if the particle is a lepton\n",
    "            nl+=1\n",
    "            leptons.append(particle)\n",
    "    \n",
    "    \n",
    "    \n",
    "    # Apply cuts for b: Pt > 20 and abs(eta) < 2.4\n",
    "    selected_b = []\n",
    "    for b in B:\n",
    "        b_pt = calculate_pt(b.px, b.py)\n",
    "        b_eta = calculate_pseudorapidity(b.px, b.py, b.pz)\n",
    "        if b_pt > pt_cut and abs(b_eta) < eta_cut:\n",
    "            selected_b.append(b)\n",
    "    \n",
    "    \n",
    "    \n",
    "\n",
    "            # Apply cuts for leptons: Pt > 25 and abs(eta) < 2.4\n",
    "            selected_leptons = []\n",
    "            for lepton in leptons:\n",
    "                lepton_pt = calculate_pt(lepton.px, lepton.py)\n",
    "                lepton_eta = calculate_pseudorapidity(lepton.px, lepton.py, lepton.pz)\n",
    "                if lepton_pt > pt_lcut and abs(lepton_eta) < eta_lcut:\n",
    "                    selected_leptons.append(lepton)\n",
    "                \n",
    "                # Apply cuts for Delat(R) > 0.4 between b-quarks and leptons\n",
    "                excluded_event = False\n",
    "                for bjet in selected_b:\n",
    "                    bjet_eta = calculate_pseudorapidity(bjet.px, bjet.py, bjet.pz)\n",
    "                    bjet_phi = calculate_phi(bjet.px, bjet.py)\n",
    "                    for lep in  selected_leptons:\n",
    "                        lep_eta = calculate_pseudorapidity(lep.px, lep.py, lep.pz)\n",
    "                        lep_phi = calculate_phi(lep.px, lep.py)\n",
    "                        delta_r = math.sqrt((bjet_eta - lep_eta) ** 2 + (bjet_phi - lep_phi) ** 2)\n",
    "                        DR.append(delta_r)\n",
    "                        if delta_r < 0.4:\n",
    "                            excluded_event = True\n",
    "                            break\n",
    "                    if excluded_event:\n",
    "                        break\n",
    "    \n",
    "    \n",
    "    # Continue to other cuts if there are two b quarks and two opposite sign leptons\n",
    "    if not excluded_event and len(selected_b) == 2 and len(selected_leptons) == 2:\n",
    "        selected_events += 1\n",
    "        cross_section_after += weight\n",
    "\n",
    "\n",
    "# Show cross section before and after applying cuts\n",
    "print(\"Total events: \", total_events)\n",
    "print(\"Selected events: \", selected_events)\n",
    "print(\"Cross section before cuts: {0:.2f} pb\".format(cross_section_before/total_events))\n",
    "print(\"Cross section after cuts: {0:.2f} pb \".format(cross_section_after/total_events))\n"
   ]
  },
  {
   "cell_type": "code",
   "execution_count": 170,
   "id": "93308fa5",
   "metadata": {},
   "outputs": [
    {
     "data": {
      "text/plain": [
       "Text(0, 0.5, 'Events')"
      ]
     },
     "execution_count": 170,
     "metadata": {},
     "output_type": "execute_result"
    },
    {
     "data": {
      "image/png": "[encoded data removed]",
      "text/plain": [
       "<Figure size 640x480 with 1 Axes>"
      ]
     },
     "metadata": {},
     "output_type": "display_data"
    }
   ],
   "source": [
    "plt.hist(DR,  bins=12, range=(0, 6), edgecolor='black')\n",
    "plt.xlabel(r'$\\Delta R$ between b-quarks and leptons')\n",
    "plt.ylabel('Events')"
   ]
  },
  {
   "cell_type": "code",
   "execution_count": 171,
   "id": "65738223",
   "metadata": {},
   "outputs": [
    {
     "name": "stdout",
     "output_type": "stream",
     "text": [
      "52694\n",
      "20000\n",
      "20000\n"
     ]
    }
   ],
   "source": [
    "print(len(DR))\n",
    "print(nb)\n",
    "print(nl)"
   ]
  },
  {
   "cell_type": "markdown",
   "id": "390832a2",
   "metadata": {},
   "source": [
    "# SPS Cross Section for pp > cc (CMS)"
   ]
  },
  {
   "cell_type": "code",
   "execution_count": 179,
   "id": "e054c414",
   "metadata": {},
   "outputs": [
    {
     "name": "stdout",
     "output_type": "stream",
     "text": [
      "Total number of events: 10000\n",
      "Number of passing events: 5\n",
      "cross-section before the cut: 4124900700.00 pb \n",
      "cross-section after the cut: 2062450.35 pb\n"
     ]
    }
   ],
   "source": [
    "\n",
    "lhe_file_path = \"/home/nima/Documents/MG5_aMC_v3_5_0/main_ppxcc_0/Events/run_01/unweighted_events.lhe\"\n",
    "\n",
    "# Load the LHE file\n",
    "events = pylhe.read_lhe(lhe_file_path)\n",
    "\n",
    "# Define the cut condition\n",
    "eta_cut = 5\n",
    "pt_cut = 20\n",
    "# Define the cross-section calculation variables\n",
    "cross_section_sum_before_cut = 0.0\n",
    "cross_section_sum_after_cut = 0.0\n",
    "passing_events = 0\n",
    "total_events = 0\n",
    "\n",
    "# Iterate over the events\n",
    "for event in events:\n",
    "    total_events += 1\n",
    "    # Check if all particles with abs(particle.id) <= 5 and particle.status == 1 pass the cut\n",
    "    all_particles_pass_cut = True\n",
    "    \n",
    "    # Iterate over the particles in the event\n",
    "    for particle in event.particles:\n",
    "        # Check if the particle is a quark with abs(particle.id) <= 5 and particle.status == 1\n",
    "        if abs(particle.id) == 4 and particle.status == 1:\n",
    "            # Extract the relevant particle properties\n",
    "            px = particle.px\n",
    "            py = particle.py\n",
    "            pz = particle.pz\n",
    "            \n",
    "            \n",
    "            # Calculate pseudorapidity\n",
    "            eta = calculate_pseudorapidity(px, py, pz)\n",
    "            # Calculate pt\n",
    "            pt = calculate_pt(px, py)\n",
    "            \n",
    "            # Check if the particle passes the pseudorapidity cut\n",
    "            if pt < pt_cut or abs(eta) > eta_cut:\n",
    "                all_particles_pass_cut = False\n",
    "                break\n",
    "    \n",
    "    # If all particles pass the cut, increment the cross-section sum after the cut\n",
    "    if all_particles_pass_cut:\n",
    "        cross_section_sum_before_cut += event.eventinfo.weight\n",
    "        cross_section_sum_after_cut += event.eventinfo.weight\n",
    "        passing_events += 1\n",
    "    else:\n",
    "        # If any particle fails the cut, increment the cross-section sum before the cut\n",
    "        cross_section_sum_before_cut += event.eventinfo.weight\n",
    "\n",
    "# Calculate the average cross-section before the cut\n",
    "average_cross_section_before_cut = cross_section_sum_before_cut / total_events\n",
    "\n",
    "# Calculate the average cross-section after the cut\n",
    "average_cross_section_after_cut = cross_section_sum_after_cut / total_events\n",
    "\n",
    "# Print the results\n",
    "print(\"Total number of events:\", total_events)\n",
    "print(\"Number of passing events:\", passing_events)\n",
    "print(\"cross-section before the cut: {0:.2f} pb \".format(average_cross_section_before_cut))\n",
    "print(\"cross-section after the cut: {0:.2f} pb\".format(average_cross_section_after_cut))\n"
   ]
  },
  {
   "cell_type": "markdown",
   "id": "5c1407b3",
   "metadata": {},
   "source": [
    "# SPS Cross Section for pp > tt >semi-leptonic channel (CMS)"
   ]
  },
  {
   "cell_type": "code",
   "execution_count": 212,
   "id": "53c8c844",
   "metadata": {},
   "outputs": [
    {
     "name": "stdout",
     "output_type": "stream",
     "text": [
      "Total events:  10000\n",
      "Selected events:  3254\n",
      "Cross section before cuts: 227.54 pb\n",
      "Cross section after cuts: 74.04 pb \n"
     ]
    }
   ],
   "source": [
    "\n",
    "\n",
    "lhe_file_path = \"/home/nima/Documents/MG5_aMC_v3_5_0/main_ppxtt_semi_madspin/Events/run_03_decayed_1/unweighted_events_decayed.lhe\"\n",
    "\n",
    "# Load the LHE file\n",
    "events = pylhe.read_lhe(lhe_file_path)\n",
    "\n",
    "# Initialize variables\n",
    "total_events = 0\n",
    "selected_events = 0\n",
    "cross_section_before = 0\n",
    "cross_section_after = 0\n",
    "\n",
    "# Define jet clustering parameters\n",
    "pt_cut = 20.0  # Minimum transverse momentum for jets\n",
    "eta_cut = 2.5  # Maximum pseudorapidity for jets\n",
    "\n",
    "pt_lcut = 30.0\n",
    "eta_lcut = 2.4\n",
    "\n",
    "DR = []\n",
    "nb = 0\n",
    "nl = 0\n",
    "nj = 0\n",
    "# Iterate over the events\n",
    "for event in events:\n",
    "    total_events += 1\n",
    "    weight = event.eventinfo.weight\n",
    "    cross_section_before += weight\n",
    "\n",
    "    # Count the number of b quarks and opposite sign leptons\n",
    "    B = []\n",
    "    J = []\n",
    "    leptons = []\n",
    "\n",
    "    for particle in event.particles:\n",
    "        if abs(particle.id) == 5 and particle.status == 1 :  # Check if the particle is a b quark\n",
    "            nb += 1\n",
    "            B.append(particle)\n",
    "        if abs(particle.id) in (11, 13, 15) and particle.status == 1:  # Check if the particle is a lepton\n",
    "            nl+=1\n",
    "            leptons.append(particle)\n",
    "        if abs(particle.id) in (1, 2, 3 , 4 , 5) and particle.status == 1:  # Check if the particle is a jet\n",
    "            nj +=1\n",
    "            J.append(particle)\n",
    "    \n",
    "    \n",
    "    # Apply cuts for b: Pt > 20 and abs(eta) < 2.5\n",
    "    selected_j = []\n",
    "    for j in J:\n",
    "        j_pt = calculate_pt(j.px, j.py)\n",
    "        j_eta = calculate_pseudorapidity(j.px, j.py, j.pz)\n",
    "        if j_pt > pt_cut and abs(j_eta) < eta_cut:\n",
    "            selected_j.append(j)\n",
    "    \n",
    "    \n",
    "            \n",
    "\n",
    "            # Apply cuts for leptons: Pt > 30 and abs(eta) < 2.4\n",
    "            selected_leptons = []\n",
    "            for lepton in leptons:\n",
    "                lepton_pt = calculate_pt(lepton.px, lepton.py)\n",
    "                lepton_eta = calculate_pseudorapidity(lepton.px, lepton.py, lepton.pz)\n",
    "                if lepton_pt > pt_lcut and abs(lepton_eta) < eta_lcut:\n",
    "                    selected_leptons.append(lepton)\n",
    "                \n",
    "                # Apply cuts for Delat(R) > 0.4 between b-quarks and leptons\n",
    "                excluded_event = False\n",
    "                for bjet in selected_j:\n",
    "                    bjet_eta = calculate_pseudorapidity(bjet.px, bjet.py, bjet.pz)\n",
    "                    bjet_phi = calculate_phi(bjet.px, bjet.py)\n",
    "                    for lep in  selected_leptons:\n",
    "                        lep_eta = calculate_pseudorapidity(lep.px, lep.py, lep.pz)\n",
    "                        lep_phi = calculate_phi(lep.px, lep.py)\n",
    "                        delta_r = math.sqrt((bjet_eta - lep_eta) ** 2 + (bjet_phi - lep_phi) ** 2)\n",
    "                        DR.append(delta_r)\n",
    "                        if delta_r < 0.4:\n",
    "                            excluded_event = True\n",
    "                            break\n",
    "                    if excluded_event:\n",
    "                        break\n",
    "    \n",
    "    \n",
    "    # Continue to other cuts if there are two b quarks and two opposite sign leptons\n",
    "    if not excluded_event and len(selected_j) == 4 and len(selected_leptons) == 1:\n",
    "        selected_events += 1\n",
    "        cross_section_after += weight\n",
    "\n",
    "\n",
    "# Show cross section before and after applying cuts\n",
    "print(\"Total events: \", total_events)\n",
    "print(\"Selected events: \", selected_events)\n",
    "print(\"Cross section before cuts: {0:.2f} pb\".format(cross_section_before/total_events))\n",
    "print(\"Cross section after cuts: {0:.2f} pb \".format(cross_section_after/total_events))\n"
   ]
  },
  {
   "cell_type": "code",
   "execution_count": 206,
   "id": "49f5df6e",
   "metadata": {},
   "outputs": [
    {
     "data": {
      "text/plain": [
       "Text(0, 0.5, 'Events')"
      ]
     },
     "execution_count": 206,
     "metadata": {},
     "output_type": "execute_result"
    },
    {
     "data": {
      "image/png": "[encoded data removed]",
      "text/plain": [
       "<Figure size 640x480 with 1 Axes>"
      ]
     },
     "metadata": {},
     "output_type": "display_data"
    }
   ],
   "source": [
    "plt.hist(DR,  bins=24, range=(0, 6), edgecolor='black')\n",
    "plt.xlabel(r'$\\Delta R$ between jets and leptons')\n",
    "plt.ylabel('Events')"
   ]
  },
  {
   "cell_type": "code",
   "execution_count": 207,
   "id": "950c5288",
   "metadata": {},
   "outputs": [
    {
     "name": "stdout",
     "output_type": "stream",
     "text": [
      "20009\n"
     ]
    }
   ],
   "source": [
    "print(nb)"
   ]
  },
  {
   "cell_type": "code",
   "execution_count": 208,
   "id": "98f23b29",
   "metadata": {},
   "outputs": [
    {
     "name": "stdout",
     "output_type": "stream",
     "text": [
      "40000\n"
     ]
    }
   ],
   "source": [
    "print(nj)"
   ]
  },
  {
   "cell_type": "code",
   "execution_count": null,
   "id": "45a5be3b",
   "metadata": {},
   "outputs": [],
   "source": []
  },
  {
   "cell_type": "code",
   "execution_count": null,
   "id": "c1a4505b",
   "metadata": {},
   "outputs": [],
   "source": []
  }
 ],
 "metadata": {
  "kernelspec": {
   "display_name": "Python 3 (ipykernel)",
   "language": "python",
   "name": "python3"
  },
  "language_info": {
   "codemirror_mode": {
    "name": "ipython",
    "version": 3
   },
   "file_extension": ".py",
   "mimetype": "text/x-python",
   "name": "python",
   "nbconvert_exporter": "python",
   "pygments_lexer": "ipython3",
   "version": "3.10.6"
  }
 },
 "nbformat": 4,
 "nbformat_minor": 5
}
